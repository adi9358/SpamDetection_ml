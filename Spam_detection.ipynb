{
 "cells": [
  {
   "cell_type": "code",
   "execution_count": 1,
   "id": "648a2df2-0e91-4390-bddc-5e34a2165ca3",
   "metadata": {},
   "outputs": [],
   "source": [
    "import numpy as np\n",
    "import pandas as pd\n",
    "import matplotlib.pyplot as plt\n",
    "import seaborn as sns\n",
    "import warnings\n",
    "warnings.filterwarnings('ignore')"
   ]
  },
  {
   "cell_type": "code",
   "execution_count": 3,
   "id": "b8f85dc0-6877-4003-8e37-5b78bea3fadf",
   "metadata": {},
   "outputs": [],
   "source": [
    "df= pd.read_table(filepath_or_buffer=r\"C:\\Users\\adity\\SMSSpamCollection\",names=[\"label\",\"message\"])"
   ]
  },
  {
   "cell_type": "code",
   "execution_count": 5,
   "id": "64f24cb4-2e40-4741-adf5-d889bb110cba",
   "metadata": {},
   "outputs": [
    {
     "data": {
      "text/html": [
       "<div>\n",
       "<style scoped>\n",
       "    .dataframe tbody tr th:only-of-type {\n",
       "        vertical-align: middle;\n",
       "    }\n",
       "\n",
       "    .dataframe tbody tr th {\n",
       "        vertical-align: top;\n",
       "    }\n",
       "\n",
       "    .dataframe thead th {\n",
       "        text-align: right;\n",
       "    }\n",
       "</style>\n",
       "<table border=\"1\" class=\"dataframe\">\n",
       "  <thead>\n",
       "    <tr style=\"text-align: right;\">\n",
       "      <th></th>\n",
       "      <th>label</th>\n",
       "      <th>message</th>\n",
       "    </tr>\n",
       "  </thead>\n",
       "  <tbody>\n",
       "    <tr>\n",
       "      <th>0</th>\n",
       "      <td>ham</td>\n",
       "      <td>Go until jurong point, crazy.. Available only ...</td>\n",
       "    </tr>\n",
       "    <tr>\n",
       "      <th>1</th>\n",
       "      <td>ham</td>\n",
       "      <td>Ok lar... Joking wif u oni...</td>\n",
       "    </tr>\n",
       "    <tr>\n",
       "      <th>2</th>\n",
       "      <td>spam</td>\n",
       "      <td>Free entry in 2 a wkly comp to win FA Cup fina...</td>\n",
       "    </tr>\n",
       "    <tr>\n",
       "      <th>3</th>\n",
       "      <td>ham</td>\n",
       "      <td>U dun say so early hor... U c already then say...</td>\n",
       "    </tr>\n",
       "    <tr>\n",
       "      <th>4</th>\n",
       "      <td>ham</td>\n",
       "      <td>Nah I don't think he goes to usf, he lives aro...</td>\n",
       "    </tr>\n",
       "    <tr>\n",
       "      <th>...</th>\n",
       "      <td>...</td>\n",
       "      <td>...</td>\n",
       "    </tr>\n",
       "    <tr>\n",
       "      <th>5567</th>\n",
       "      <td>spam</td>\n",
       "      <td>This is the 2nd time we have tried 2 contact u...</td>\n",
       "    </tr>\n",
       "    <tr>\n",
       "      <th>5568</th>\n",
       "      <td>ham</td>\n",
       "      <td>Will ü b going to esplanade fr home?</td>\n",
       "    </tr>\n",
       "    <tr>\n",
       "      <th>5569</th>\n",
       "      <td>ham</td>\n",
       "      <td>Pity, * was in mood for that. So...any other s...</td>\n",
       "    </tr>\n",
       "    <tr>\n",
       "      <th>5570</th>\n",
       "      <td>ham</td>\n",
       "      <td>The guy did some bitching but I acted like i'd...</td>\n",
       "    </tr>\n",
       "    <tr>\n",
       "      <th>5571</th>\n",
       "      <td>ham</td>\n",
       "      <td>Rofl. Its true to its name</td>\n",
       "    </tr>\n",
       "  </tbody>\n",
       "</table>\n",
       "<p>5572 rows × 2 columns</p>\n",
       "</div>"
      ],
      "text/plain": [
       "     label                                            message\n",
       "0      ham  Go until jurong point, crazy.. Available only ...\n",
       "1      ham                      Ok lar... Joking wif u oni...\n",
       "2     spam  Free entry in 2 a wkly comp to win FA Cup fina...\n",
       "3      ham  U dun say so early hor... U c already then say...\n",
       "4      ham  Nah I don't think he goes to usf, he lives aro...\n",
       "...    ...                                                ...\n",
       "5567  spam  This is the 2nd time we have tried 2 contact u...\n",
       "5568   ham               Will ü b going to esplanade fr home?\n",
       "5569   ham  Pity, * was in mood for that. So...any other s...\n",
       "5570   ham  The guy did some bitching but I acted like i'd...\n",
       "5571   ham                         Rofl. Its true to its name\n",
       "\n",
       "[5572 rows x 2 columns]"
      ]
     },
     "execution_count": 5,
     "metadata": {},
     "output_type": "execute_result"
    }
   ],
   "source": [
    "df"
   ]
  },
  {
   "cell_type": "code",
   "execution_count": 7,
   "id": "fc10cd9e-2bf8-4240-822b-a90579746adf",
   "metadata": {},
   "outputs": [],
   "source": [
    "###shape of the data"
   ]
  },
  {
   "cell_type": "code",
   "execution_count": 9,
   "id": "49dd4ad3-7127-4a43-90be-fcd28b6ebdb0",
   "metadata": {},
   "outputs": [
    {
     "data": {
      "text/plain": [
       "(5572, 2)"
      ]
     },
     "execution_count": 9,
     "metadata": {},
     "output_type": "execute_result"
    }
   ],
   "source": [
    "df.shape"
   ]
  },
  {
   "cell_type": "code",
   "execution_count": 11,
   "id": "153216bb-63e5-46b3-bb43-46b06f990b6e",
   "metadata": {},
   "outputs": [
    {
     "data": {
      "text/plain": [
       "label\n",
       "ham     4825\n",
       "spam     747\n",
       "Name: count, dtype: int64"
      ]
     },
     "execution_count": 11,
     "metadata": {},
     "output_type": "execute_result"
    }
   ],
   "source": [
    "df.label.value_counts()"
   ]
  },
  {
   "cell_type": "code",
   "execution_count": 13,
   "id": "f48bf6c2-555b-4b53-a390-59b78758272a",
   "metadata": {},
   "outputs": [],
   "source": [
    "df[\"label\"] = df[\"label\"].map({\"ham\":0,\"spam\":1})"
   ]
  },
  {
   "cell_type": "code",
   "execution_count": 15,
   "id": "8761febd-f261-434d-bb67-fa213fef6a44",
   "metadata": {},
   "outputs": [
    {
     "data": {
      "text/html": [
       "<div>\n",
       "<style scoped>\n",
       "    .dataframe tbody tr th:only-of-type {\n",
       "        vertical-align: middle;\n",
       "    }\n",
       "\n",
       "    .dataframe tbody tr th {\n",
       "        vertical-align: top;\n",
       "    }\n",
       "\n",
       "    .dataframe thead th {\n",
       "        text-align: right;\n",
       "    }\n",
       "</style>\n",
       "<table border=\"1\" class=\"dataframe\">\n",
       "  <thead>\n",
       "    <tr style=\"text-align: right;\">\n",
       "      <th></th>\n",
       "      <th>label</th>\n",
       "      <th>message</th>\n",
       "    </tr>\n",
       "  </thead>\n",
       "  <tbody>\n",
       "    <tr>\n",
       "      <th>0</th>\n",
       "      <td>0</td>\n",
       "      <td>Go until jurong point, crazy.. Available only ...</td>\n",
       "    </tr>\n",
       "    <tr>\n",
       "      <th>1</th>\n",
       "      <td>0</td>\n",
       "      <td>Ok lar... Joking wif u oni...</td>\n",
       "    </tr>\n",
       "    <tr>\n",
       "      <th>2</th>\n",
       "      <td>1</td>\n",
       "      <td>Free entry in 2 a wkly comp to win FA Cup fina...</td>\n",
       "    </tr>\n",
       "    <tr>\n",
       "      <th>3</th>\n",
       "      <td>0</td>\n",
       "      <td>U dun say so early hor... U c already then say...</td>\n",
       "    </tr>\n",
       "    <tr>\n",
       "      <th>4</th>\n",
       "      <td>0</td>\n",
       "      <td>Nah I don't think he goes to usf, he lives aro...</td>\n",
       "    </tr>\n",
       "    <tr>\n",
       "      <th>...</th>\n",
       "      <td>...</td>\n",
       "      <td>...</td>\n",
       "    </tr>\n",
       "    <tr>\n",
       "      <th>5567</th>\n",
       "      <td>1</td>\n",
       "      <td>This is the 2nd time we have tried 2 contact u...</td>\n",
       "    </tr>\n",
       "    <tr>\n",
       "      <th>5568</th>\n",
       "      <td>0</td>\n",
       "      <td>Will ü b going to esplanade fr home?</td>\n",
       "    </tr>\n",
       "    <tr>\n",
       "      <th>5569</th>\n",
       "      <td>0</td>\n",
       "      <td>Pity, * was in mood for that. So...any other s...</td>\n",
       "    </tr>\n",
       "    <tr>\n",
       "      <th>5570</th>\n",
       "      <td>0</td>\n",
       "      <td>The guy did some bitching but I acted like i'd...</td>\n",
       "    </tr>\n",
       "    <tr>\n",
       "      <th>5571</th>\n",
       "      <td>0</td>\n",
       "      <td>Rofl. Its true to its name</td>\n",
       "    </tr>\n",
       "  </tbody>\n",
       "</table>\n",
       "<p>5572 rows × 2 columns</p>\n",
       "</div>"
      ],
      "text/plain": [
       "      label                                            message\n",
       "0         0  Go until jurong point, crazy.. Available only ...\n",
       "1         0                      Ok lar... Joking wif u oni...\n",
       "2         1  Free entry in 2 a wkly comp to win FA Cup fina...\n",
       "3         0  U dun say so early hor... U c already then say...\n",
       "4         0  Nah I don't think he goes to usf, he lives aro...\n",
       "...     ...                                                ...\n",
       "5567      1  This is the 2nd time we have tried 2 contact u...\n",
       "5568      0               Will ü b going to esplanade fr home?\n",
       "5569      0  Pity, * was in mood for that. So...any other s...\n",
       "5570      0  The guy did some bitching but I acted like i'd...\n",
       "5571      0                         Rofl. Its true to its name\n",
       "\n",
       "[5572 rows x 2 columns]"
      ]
     },
     "execution_count": 15,
     "metadata": {},
     "output_type": "execute_result"
    }
   ],
   "source": [
    "df"
   ]
  },
  {
   "cell_type": "code",
   "execution_count": 17,
   "id": "95b582af-bd75-4619-80c3-8532d6dab125",
   "metadata": {},
   "outputs": [],
   "source": [
    "from sklearn.feature_extraction.text import CountVectorizer"
   ]
  },
  {
   "cell_type": "code",
   "execution_count": 19,
   "id": "b468d1c6-0df4-4ebc-a29f-d02a2523f872",
   "metadata": {},
   "outputs": [],
   "source": [
    "count_vector = CountVectorizer()"
   ]
  },
  {
   "cell_type": "code",
   "execution_count": 21,
   "id": "28060d98-7c1a-4a61-803f-071ab8b06edb",
   "metadata": {},
   "outputs": [],
   "source": [
    "x=df[\"message\"]\n",
    "y=df.label"
   ]
  },
  {
   "cell_type": "code",
   "execution_count": 23,
   "id": "ef15f701-18aa-4ce0-bf43-9a698eec3819",
   "metadata": {},
   "outputs": [
    {
     "data": {
      "text/plain": [
       "0       Go until jurong point, crazy.. Available only ...\n",
       "1                           Ok lar... Joking wif u oni...\n",
       "2       Free entry in 2 a wkly comp to win FA Cup fina...\n",
       "3       U dun say so early hor... U c already then say...\n",
       "4       Nah I don't think he goes to usf, he lives aro...\n",
       "                              ...                        \n",
       "5567    This is the 2nd time we have tried 2 contact u...\n",
       "5568                 Will ü b going to esplanade fr home?\n",
       "5569    Pity, * was in mood for that. So...any other s...\n",
       "5570    The guy did some bitching but I acted like i'd...\n",
       "5571                           Rofl. Its true to its name\n",
       "Name: message, Length: 5572, dtype: object"
      ]
     },
     "execution_count": 23,
     "metadata": {},
     "output_type": "execute_result"
    }
   ],
   "source": [
    "x.head()"
   ]
  },
  {
   "cell_type": "code",
   "execution_count": 27,
   "id": "05cdde3a-4e40-408f-9f93-68f6d3450637",
   "metadata": {},
   "outputs": [
    {
     "data": {
      "text/plain": [
       "0    0\n",
       "1    0\n",
       "2    1\n",
       "3    0\n",
       "4    0\n",
       "Name: label, dtype: int64"
      ]
     },
     "execution_count": 27,
     "metadata": {},
     "output_type": "execute_result"
    }
   ],
   "source": [
    "y.head()"
   ]
  },
  {
   "cell_type": "code",
   "execution_count": 29,
   "id": "2c59f99e-6dc6-4840-a228-113f2ff01ace",
   "metadata": {},
   "outputs": [],
   "source": [
    "from sklearn.model_selection import train_test_split"
   ]
  },
  {
   "cell_type": "code",
   "execution_count": 31,
   "id": "b5d8ad29-fc36-4455-b5b1-d722745baa93",
   "metadata": {},
   "outputs": [],
   "source": [
    "X_train,X_test,y_train,y_test = train_test_split(x,y,test_size=0.2,random_state=42)"
   ]
  },
  {
   "cell_type": "code",
   "execution_count": 35,
   "id": "58395452-ceea-4e1e-8039-d470f9a8199e",
   "metadata": {},
   "outputs": [
    {
     "name": "stdout",
     "output_type": "stream",
     "text": [
      "size of the actual dataset:  5572\n",
      "size of the training dataset:  4457\n",
      "size of the test dataset:  1115\n"
     ]
    }
   ],
   "source": [
    "print(\"size of the actual dataset: \",df.shape[0])\n",
    "print(\"size of the training dataset: \",X_train.shape[0])\n",
    "print(\"size of the test dataset: \",X_test.shape[0])"
   ]
  },
  {
   "cell_type": "code",
   "execution_count": 51,
   "id": "77117352-42c1-442e-bd58-c743c444b756",
   "metadata": {},
   "outputs": [],
   "source": [
    "x_count_train = count_vector.fit_transform(X_train)\n",
    "x_count_test = count_vector.transform(X_test)"
   ]
  },
  {
   "cell_type": "code",
   "execution_count": 53,
   "id": "e7a3493e-5932-4c94-9672-48908eeae67f",
   "metadata": {},
   "outputs": [],
   "source": [
    "from sklearn.naive_bayes import MultinomialNB"
   ]
  },
  {
   "cell_type": "code",
   "execution_count": 55,
   "id": "274881c7-c367-45e4-907c-4155ad75fa62",
   "metadata": {},
   "outputs": [],
   "source": [
    "mb = MultinomialNB()"
   ]
  },
  {
   "cell_type": "code",
   "execution_count": 57,
   "id": "6d412e9c-22d5-4bd8-a570-5c923ebdd680",
   "metadata": {},
   "outputs": [
    {
     "data": {
      "text/plain": [
       "0.9932690150325331"
      ]
     },
     "execution_count": 57,
     "metadata": {},
     "output_type": "execute_result"
    }
   ],
   "source": [
    "mb.fit(x_count_train,y_train)\n",
    "mb.score(x_count_train,y_train)"
   ]
  },
  {
   "cell_type": "code",
   "execution_count": 63,
   "id": "b4c1ebe1-79af-4d23-abff-e4c3a5308752",
   "metadata": {},
   "outputs": [],
   "source": [
    "y_pred=mb.predict(x_count_test)"
   ]
  },
  {
   "cell_type": "code",
   "execution_count": 65,
   "id": "cd128e6d-9338-4ed7-80bf-f5141316892e",
   "metadata": {},
   "outputs": [
    {
     "data": {
      "text/plain": [
       "array([0, 0, 0, ..., 0, 0, 0], dtype=int64)"
      ]
     },
     "execution_count": 65,
     "metadata": {},
     "output_type": "execute_result"
    }
   ],
   "source": [
    "y_pred"
   ]
  },
  {
   "cell_type": "code",
   "execution_count": 67,
   "id": "1384a485-5f33-46e9-bbe1-0e4c67d06c73",
   "metadata": {},
   "outputs": [
    {
     "name": "stdout",
     "output_type": "stream",
     "text": [
      "Accuracy score:  0.9919282511210762\n",
      "Precision score:  1.0\n",
      "Recall score:  0.9395973154362416\n",
      "F1 score:  0.9688581314878892\n"
     ]
    }
   ],
   "source": [
    "from sklearn.metrics import accuracy_score, precision_score, recall_score, f1_score\n",
    "print('Accuracy score: ', format(accuracy_score(y_test, y_pred)))\n",
    "print('Precision score: ', format(precision_score(y_test, y_pred)))\n",
    "print('Recall score: ', format(recall_score(y_test, y_pred)))\n",
    "print('F1 score: ', format(f1_score(y_test, y_pred)))"
   ]
  },
  {
   "cell_type": "code",
   "execution_count": 107,
   "id": "658706a1-46e0-4e0f-8bdc-e48d71d20fac",
   "metadata": {},
   "outputs": [],
   "source": [
    "spam_word_prob = mb.feature_log_prob_[1]"
   ]
  },
  {
   "cell_type": "code",
   "execution_count": 119,
   "id": "53b123b7-07b6-4c32-868b-085a68f65a83",
   "metadata": {},
   "outputs": [
    {
     "data": {
      "text/plain": [
       "array([-7.78715148, -6.80632223, -9.98437606, -8.88576377, -9.29122888,\n",
       "       -9.29122888, -9.29122888, -9.29122888, -8.03846591, -8.5980817 ,\n",
       "       -9.29122888, -8.88576377, -9.29122888, -9.29122888, -7.68179096,\n",
       "       -7.58648078, -9.29122888, -8.5980817 , -8.88576377, -8.88576377,\n",
       "       -8.03846591, -8.88576377, -9.29122888, -9.29122888, -9.29122888,\n",
       "       -9.29122888, -8.88576377, -9.29122888, -9.29122888, -8.88576377])"
      ]
     },
     "execution_count": 119,
     "metadata": {},
     "output_type": "execute_result"
    }
   ],
   "source": [
    "spam_word_prob[0:30]"
   ]
  },
  {
   "cell_type": "code",
   "execution_count": 113,
   "id": "ce71ffe6-8673-435b-af05-9bf172c487dd",
   "metadata": {},
   "outputs": [],
   "source": [
    "words = count_vector.get_feature_names_out()"
   ]
  },
  {
   "cell_type": "code",
   "execution_count": 117,
   "id": "5d188fc3-b9e3-4e45-ba0a-da4d2d7686d2",
   "metadata": {},
   "outputs": [
    {
     "data": {
      "text/plain": [
       "array(['00', '000', '000pes', '008704050406', '0089', '0121',\n",
       "       '01223585236', '01223585334', '02', '0207', '02072069400',\n",
       "       '02073162414', '02085076972', '021', '03', '04', '0430', '05',\n",
       "       '050703', '0578', '06', '07', '07008009200', '07046744435',\n",
       "       '07090298926', '07099833605', '07123456789', '0721072',\n",
       "       '07732584351', '07734396839'], dtype=object)"
      ]
     },
     "execution_count": 117,
     "metadata": {},
     "output_type": "execute_result"
    }
   ],
   "source": [
    "words[0:30]"
   ]
  },
  {
   "cell_type": "code",
   "execution_count": 137,
   "id": "c9278f98-880c-4468-868c-f9b816bf2d9e",
   "metadata": {},
   "outputs": [
    {
     "name": "stdout",
     "output_type": "stream",
     "text": [
      "Top spam words:\n",
      "to: 0.0255\n",
      "call: 0.0131\n",
      "you: 0.0106\n",
      "your: 0.0099\n",
      "free: 0.0087\n",
      "now: 0.0077\n",
      "for: 0.0075\n",
      "the: 0.0074\n",
      "or: 0.0074\n",
      "txt: 0.0058\n",
      "on: 0.0055\n",
      "is: 0.0054\n",
      "ur: 0.0051\n",
      "from: 0.0048\n",
      "text: 0.0047\n",
      "mobile: 0.0047\n",
      "stop: 0.0047\n",
      "have: 0.0045\n",
      "and: 0.0045\n",
      "reply: 0.0042\n",
      "claim: 0.0041\n",
      "with: 0.0040\n",
      "www: 0.0037\n",
      "of: 0.0036\n",
      "this: 0.0032\n",
      "get: 0.0032\n",
      "in: 0.0030\n",
      "are: 0.0030\n",
      "prize: 0.0030\n",
      "our: 0.0030\n",
      "only: 0.0030\n",
      "send: 0.0030\n",
      "cash: 0.0030\n",
      "new: 0.0028\n",
      "just: 0.0027\n",
      "uk: 0.0027\n",
      "no: 0.0027\n",
      "win: 0.0026\n",
      "won: 0.0025\n",
      "150p: 0.0025\n",
      "nokia: 0.0024\n",
      "50: 0.0024\n",
      "week: 0.0023\n",
      "urgent: 0.0023\n",
      "tone: 0.0022\n",
      "out: 0.0021\n",
      "be: 0.0021\n",
      "please: 0.0021\n",
      "msg: 0.0021\n",
      "com: 0.0021\n",
      "service: 0.0020\n",
      "co: 0.0020\n",
      "we: 0.0019\n",
      "contact: 0.0019\n",
      "16: 0.0019\n",
      "guaranteed: 0.0019\n",
      "18: 0.0019\n",
      "phone: 0.0018\n",
      "customer: 0.0018\n",
      "will: 0.0018\n",
      "per: 0.0018\n",
      "min: 0.0018\n",
      "500: 0.0017\n",
      "who: 0.0017\n",
      "cs: 0.0017\n",
      "been: 0.0017\n",
      "100: 0.0016\n",
      "1000: 0.0016\n",
      "chat: 0.0015\n",
      "awarded: 0.0015\n",
      "draw: 0.0015\n",
      "sms: 0.0014\n",
      "camera: 0.0014\n",
      "by: 0.0014\n",
      "wk: 0.0014\n",
      "if: 0.0014\n",
      "ringtone: 0.0013\n",
      "mins: 0.0013\n",
      "line: 0.0013\n",
      "latest: 0.0013\n",
      "every: 0.0013\n",
      "video: 0.0013\n",
      "receive: 0.0013\n",
      "message: 0.0013\n",
      "it: 0.0013\n",
      "holiday: 0.0013\n",
      "as: 0.0013\n",
      "po: 0.0012\n",
      "more: 0.0012\n",
      "go: 0.0012\n",
      "cost: 0.0012\n",
      "can: 0.0012\n",
      "all: 0.0012\n",
      "150ppm: 0.0012\n",
      "tones: 0.0012\n",
      "rate: 0.0012\n",
      "number: 0.0012\n",
      "live: 0.0012\n",
      "box: 0.0012\n",
      "award: 0.0012\n",
      "me: 0.0012\n",
      "has: 0.0012\n",
      "chance: 0.0012\n",
      "want: 0.0011\n",
      "shows: 0.0011\n",
      "landline: 0.0011\n",
      "apply: 0.0011\n",
      "000: 0.0011\n",
      "weekly: 0.0011\n",
      "selected: 0.0011\n",
      "do: 0.0011\n",
      "any: 0.0011\n",
      "word: 0.0010\n",
      "network: 0.0010\n",
      "entry: 0.0010\n",
      "collection: 0.0010\n",
      "code: 0.0010\n",
      "at: 0.0010\n",
      "an: 0.0010\n",
      "valid: 0.0010\n",
      "so: 0.0010\n",
      "orange: 0.0010\n",
      "know: 0.0010\n",
      "find: 0.0010\n",
      "1st: 0.0010\n",
      "that: 0.0009\n",
      "offer: 0.0009\n",
      "music: 0.0009\n",
      "mob: 0.0009\n",
      "help: 0.0009\n",
      "2000: 0.0009\n",
      "10p: 0.0009\n",
      "10: 0.0009\n",
      "not: 0.0009\n",
      "delivery: 0.0009\n",
      "colour: 0.0009\n",
      "collect: 0.0009\n",
      "back: 0.0009\n",
      "8007: 0.0009\n",
      "vouchers: 0.0008\n",
      "update: 0.0008\n",
      "up: 0.0008\n",
      "see: 0.0008\n",
      "poly: 0.0008\n",
      "national: 0.0008\n",
      "hi: 0.0008\n",
      "800: 0.0008\n",
      "5000: 0.0008\n",
      "yes: 0.0008\n",
      "sae: 0.0008\n",
      "pounds: 0.0008\n",
      "had: 0.0008\n",
      "attempt: 0.0008\n",
      "750: 0.0008\n",
      "250: 0.0008\n",
      "texts: 0.0007\n",
      "special: 0.0007\n",
      "price: 0.0007\n",
      "opt: 0.0007\n",
      "operator: 0.0007\n",
      "gift: 0.0007\n",
      "calls: 0.0007\n",
      "await: 0.0007\n",
      "2nd: 0.0007\n",
      "150: 0.0007\n",
      "waiting: 0.0007\n",
      "today: 0.0007\n",
      "services: 0.0007\n",
      "quiz: 0.0007\n",
      "play: 0.0007\n",
      "land: 0.0007\n",
      "games: 0.0007\n",
      "day: 0.0007\n",
      "dating: 0.0007\n",
      "bonus: 0.0007\n",
      "12hrs: 0.0007\n",
      "yours: 0.0006\n",
      "winner: 0.0006\n",
      "what: 0.0006\n",
      "unsubscribe: 0.0006\n",
      "tried: 0.0006\n",
      "todays: 0.0006\n",
      "time: 0.0006\n",
      "they: 0.0006\n",
      "row: 0.0006\n",
      "re: 0.0006\n",
      "order: 0.0006\n",
      "next: 0.0006\n",
      "join: 0.0006\n",
      "hot: 0.0006\n",
      "freemsg: 0.0006\n",
      "account: 0.0006\n",
      "86688: 0.0006\n",
      "350: 0.0006\n",
      "08000930705: 0.0006\n",
      "wkly: 0.0006\n",
      "voucher: 0.0006\n",
      "trying: 0.0006\n",
      "top: 0.0006\n",
      "there: 0.0006\n",
      "thanks: 0.0006\n",
      "suite342: 0.0006\n",
      "someone: 0.0006\n",
      "net: 0.0006\n",
      "name: 0.0006\n",
      "mobileupd8: 0.0006\n",
      "messages: 0.0006\n",
      "ltd: 0.0006\n",
      "like: 0.0006\n",
      "last: 0.0006\n",
      "info: 0.0006\n",
      "http: 0.0006\n",
      "her: 0.0006\n",
      "half: 0.0006\n",
      "expires: 0.0006\n",
      "end: 0.0006\n",
      "double: 0.0006\n",
      "club: 0.0006\n",
      "camcorder: 0.0006\n",
      "auction: 0.0006\n",
      "ac: 0.0006\n",
      "87066: 0.0006\n",
      "2lands: 0.0006\n",
      "08000839402: 0.0006\n",
      "tell: 0.0006\n",
      "take: 0.0006\n",
      "sexy: 0.0006\n",
      "savamob: 0.0006\n",
      "rental: 0.0006\n",
      "private: 0.0006\n",
      "points: 0.0006\n",
      "pobox: 0.0006\n",
      "player: 0.0006\n",
      "phones: 0.0006\n",
      "mobiles: 0.0006\n",
      "ipod: 0.0006\n",
      "identifier: 0.0006\n",
      "dear: 0.0006\n",
      "content: 0.0006\n",
      "complimentary: 0.0006\n",
      "bt: 0.0006\n",
      "anytime: 0.0006\n",
      "200: 0.0006\n",
      "0800: 0.0006\n",
      "worth: 0.0005\n",
      "ve: 0.0005\n",
      "tomorrow: 0.0005\n",
      "statement: 0.0005\n",
      "speak: 0.0005\n",
      "ringtones: 0.0005\n",
      "real: 0.0005\n",
      "pic: 0.0005\n",
      "over: 0.0005\n",
      "offers: 0.0005\n",
      "my: 0.0005\n",
      "great: 0.0005\n",
      "good: 0.0005\n",
      "enjoy: 0.0005\n",
      "eg: 0.0005\n",
      "congratulations: 0.0005\n",
      "charged: 0.0005\n",
      "am: 0.0005\n",
      "11: 0.0005\n",
      "04: 0.0005\n",
      "xmas: 0.0005\n",
      "when: 0.0005\n",
      "weekend: 0.0005\n",
      "w1j6hl: 0.0005\n",
      "un: 0.0005\n",
      "txts: 0.0005\n",
      "ts: 0.0005\n",
      "tc: 0.0005\n",
      "std: 0.0005\n",
      "specially: 0.0005\n",
      "sex: 0.0005\n",
      "reveal: 0.0005\n",
      "redeemed: 0.0005\n",
      "pls: 0.0005\n",
      "ntt: 0.0005\n",
      "need: 0.0005\n",
      "mates: 0.0005\n",
      "make: 0.0005\n",
      "ldew: 0.0005\n",
      "hg: 0.0005\n",
      "game: 0.0005\n",
      "fun: 0.0005\n",
      "friend: 0.0005\n",
      "flag: 0.0005\n",
      "england: 0.0005\n",
      "don: 0.0005\n",
      "date: 0.0005\n",
      "custcare: 0.0005\n",
      "currently: 0.0005\n",
      "congrats: 0.0005\n",
      "comp: 0.0005\n",
      "charity: 0.0005\n",
      "age16: 0.0005\n",
      "2003: 0.0005\n",
      "03: 0.0005\n",
      "yr: 0.0004\n",
      "which: 0.0004\n",
      "welcome: 0.0004\n",
      "valued: 0.0004\n",
      "sunshine: 0.0004\n",
      "summer: 0.0004\n",
      "store: 0.0004\n",
      "sp: 0.0004\n",
      "sony: 0.0004\n",
      "pics: 0.0004\n",
      "motorola: 0.0004\n",
      "love: 0.0004\n",
      "important: 0.0004\n",
      "final: 0.0004\n",
      "either: 0.0004\n",
      "easy: 0.0004\n",
      "dont: 0.0004\n",
      "days: 0.0004\n",
      "charge: 0.0004\n",
      "caller: 0.0004\n",
      "call2optout: 0.0004\n",
      "between: 0.0004\n",
      "best: 0.0004\n",
      "balance: 0.0004\n",
      "age: 0.0004\n",
      "20p: 0.0004\n",
      "11mths: 0.0004\n",
      "00: 0.0004\n",
      "weeks: 0.0004\n",
      "wap: 0.0004\n",
      "visit: 0.0004\n",
      "us: 0.0004\n",
      "unlimited: 0.0004\n",
      "tv: 0.0004\n",
      "thinks: 0.0004\n",
      "terms: 0.0004\n",
      "sub: 0.0004\n",
      "shopping: 0.0004\n",
      "shop: 0.0004\n",
      "secret: 0.0004\n",
      "representative: 0.0004\n",
      "rcvd: 0.0004\n",
      "rates: 0.0004\n",
      "polys: 0.0004\n",
      "part: 0.0004\n",
      "numbers: 0.0004\n",
      "news: 0.0004\n",
      "matches: 0.0004\n",
      "ldn: 0.0004\n",
      "inc: 0.0004\n",
      "horny: 0.0004\n",
      "got: 0.0004\n",
      "getzed: 0.0004\n",
      "first: 0.0004\n",
      "fancy: 0.0004\n",
      "entitled: 0.0004\n",
      "enter: 0.0004\n",
      "each: 0.0004\n",
      "dvd: 0.0004\n",
      "digital: 0.0004\n",
      "details: 0.0004\n",
      "del: 0.0004\n",
      "credits: 0.0004\n",
      "cd: 0.0004\n",
      "biz: 0.0004\n",
      "bid: 0.0004\n",
      "babe: 0.0004\n",
      "area: 0.0004\n",
      "admirer: 0.0004\n",
      "82277: 0.0004\n",
      "62468: 0.0004\n",
      "3030: 0.0004\n",
      "25p: 0.0004\n",
      "08718720201: 0.0004\n",
      "08712460324: 0.0004\n",
      "0870: 0.0004\n",
      "zed: 0.0003\n",
      "year: 0.0003\n",
      "within: 0.0003\n",
      "why: 0.0003\n",
      "was: 0.0003\n",
      "wanna: 0.0003\n",
      "unsub: 0.0003\n",
      "txting: 0.0003\n",
      "tncs: 0.0003\n",
      "still: 0.0003\n",
      "spree: 0.0003\n",
      "sol: 0.0003\n",
      "sk38xh: 0.0003\n",
      "should: 0.0003\n",
      "saturday: 0.0003\n",
      "ready: 0.0003\n",
      "question: 0.0003\n",
      "pm: 0.0003\n",
      "one: 0.0003\n",
      "o2: 0.0003\n",
      "miss: 0.0003\n",
      "maximize: 0.0003\n",
      "luck: 0.0003\n",
      "logo: 0.0003\n",
      "keep: 0.0003\n",
      "its: 0.0003\n",
      "ip4: 0.0003\n",
      "inviting: 0.0003\n",
      "im: 0.0003\n",
      "how: 0.0003\n",
      "hmv: 0.0003\n",
      "here: 0.0003\n",
      "guys: 0.0003\n",
      "gr8: 0.0003\n",
      "give: 0.0003\n",
      "frnd: 0.0003\n",
      "freephone: 0.0003\n",
      "flights: 0.0003\n",
      "even: 0.0003\n",
      "etc: 0.0003\n",
      "ending: 0.0003\n",
      "discount: 0.0003\n",
      "croydon: 0.0003\n",
      "credit: 0.0003\n",
      "cr9: 0.0003\n",
      "costa: 0.0003\n",
      "comuk: 0.0003\n",
      "choose: 0.0003\n",
      "cc: 0.0003\n",
      "calling: 0.0003\n",
      "bx420: 0.0003\n",
      "but: 0.0003\n",
      "asked: 0.0003\n",
      "arcade: 0.0003\n",
      "answer: 0.0003\n",
      "7pm: 0.0003\n",
      "5we: 0.0003\n",
      "5wb: 0.0003\n",
      "2004: 0.0003\n",
      "20: 0.0003\n",
      "150pm: 0.0003\n",
      "1327: 0.0003\n",
      "10am: 0.0003\n",
      "08707509020: 0.0003\n",
      "06: 0.0003\n",
      "02: 0.0003\n",
      "years: 0.0003\n",
      "xxx: 0.0003\n",
      "vodafone: 0.0003\n",
      "vary: 0.0003\n",
      "user: 0.0003\n",
      "txtauction: 0.0003\n",
      "try: 0.0003\n",
      "toclaim: 0.0003\n",
      "these: 0.0003\n",
      "then: 0.0003\n",
      "stockport: 0.0003\n",
      "start: 0.0003\n",
      "some: 0.0003\n",
      "sipix: 0.0003\n",
      "sent: 0.0003\n",
      "revealed: 0.0003\n",
      "replying: 0.0003\n",
      "questions: 0.0003\n",
      "pound: 0.0003\n",
      "pobox84: 0.0003\n",
      "pobox36504w45wq: 0.0003\n",
      "pobox334: 0.0003\n",
      "plus: 0.0003\n",
      "pc: 0.0003\n",
      "pass: 0.0003\n",
      "optout: 0.0003\n",
      "ok: 0.0003\n",
      "official: 0.0003\n",
      "no1: 0.0003\n",
      "night: 0.0003\n",
      "must: 0.0003\n",
      "msgs: 0.0003\n",
      "month: 0.0003\n",
      "minutes: 0.0003\n",
      "meet: 0.0003\n",
      "may: 0.0003\n",
      "max10mins: 0.0003\n",
      "luv: 0.0003\n",
      "loyalty: 0.0003\n",
      "looking: 0.0003\n",
      "information: 0.0003\n",
      "immediately: 0.0003\n",
      "holder: 0.0003\n",
      "hl: 0.0003\n",
      "guess: 0.0003\n",
      "girls: 0.0003\n",
      "gay: 0.0003\n",
      "fantasies: 0.0003\n",
      "extra: 0.0003\n",
      "eve: 0.0003\n",
      "dogging: 0.0003\n",
      "direct: 0.0003\n",
      "crazy: 0.0003\n",
      "could: 0.0003\n",
      "cds: 0.0003\n",
      "buy: 0.0003\n",
      "book: 0.0003\n",
      "bluetooth: 0.0003\n",
      "being: 0.0003\n"
     ]
    }
   ],
   "source": [
    "spam_words = sorted(zip(spam_word_prob, words), reverse=True)\n",
    "print(\"Top spam words:\")\n",
    "for prob, word in spam_words[:500]:  # Top 10 words\n",
    "    print(f\"{word}: {np.exp(prob):.4f}\")"
   ]
  },
  {
   "cell_type": "code",
   "execution_count": 155,
   "id": "66d14657-10fa-4e2b-b799-8222b847a9a4",
   "metadata": {},
   "outputs": [
    {
     "name": "stdout",
     "output_type": "stream",
     "text": [
      "[1]\n",
      "[[1.16905169e-16 1.00000000e+00]]\n",
      "The message is SPAM.\n",
      "Probability of Spam: 1.0000\n",
      "Probability of Ham: 0.0000\n"
     ]
    }
   ],
   "source": [
    "# Input spam message\n",
    "test_message = \"Congratulations! You have won a FREE prize! Reply NOW to claim your cash reward or text 'WIN' to our service number. Hurry, this is urgent!\"\n",
    "\n",
    "# Preprocess the message using the CountVectorizer\n",
    "test_vector = count_vector.transform([test_message])\n",
    "\n",
    "# Predict using the Naive Bayes model\n",
    "prediction = mb.predict(test_vector) # Outputs class (0 for ham, 1 for spam)\n",
    "print(prediction)\n",
    "\n",
    "# Get the probability of the prediction\n",
    "prediction_prob = mb.predict_proba(test_vector) # Outputs probabilities for each class\n",
    "print(prediction_prob)\n",
    "\n",
    "# Display the results\n",
    "if prediction[0] == 1:\n",
    "    print(\"The message is SPAM.\")\n",
    "else:\n",
    "    print(\"The message is HAM.\")\n",
    "\n",
    "print(f\"Probability of Spam: {prediction_prob[0][1]:.4f}\")\n",
    "print(f\"Probability of Ham: {prediction_prob[0][0]:.4f}\")\n"
   ]
  },
  {
   "cell_type": "code",
   "execution_count": 157,
   "id": "fc5dcc7a-d565-4575-b3b5-8d9d7972c36a",
   "metadata": {},
   "outputs": [],
   "source": [
    "message2 = \"Congratulations! You’ve won a FREE holiday! Reply ‘WIN’ now to claim your prize or call 123456789. Hurry, offer valid for today only!\""
   ]
  },
  {
   "cell_type": "code",
   "execution_count": 159,
   "id": "ffbe0f9b-1aab-4c6d-ac59-f67063d8fb26",
   "metadata": {},
   "outputs": [],
   "source": [
    "message_count2 = count_vector.transform([message2])"
   ]
  },
  {
   "cell_type": "code",
   "execution_count": 161,
   "id": "5cfac425-7b06-4d10-a23e-1603df12ca3c",
   "metadata": {},
   "outputs": [],
   "source": [
    "prediction2 = mb.predict(message_count2)"
   ]
  },
  {
   "cell_type": "code",
   "execution_count": 163,
   "id": "c244814f-7ce2-48f8-97d9-949fd4330761",
   "metadata": {},
   "outputs": [
    {
     "data": {
      "text/plain": [
       "array([1], dtype=int64)"
      ]
     },
     "execution_count": 163,
     "metadata": {},
     "output_type": "execute_result"
    }
   ],
   "source": [
    "prediction2"
   ]
  },
  {
   "cell_type": "code",
   "execution_count": null,
   "id": "374f90eb-6208-437e-9623-aa08584ff8d1",
   "metadata": {},
   "outputs": [],
   "source": []
  }
 ],
 "metadata": {
  "kernelspec": {
   "display_name": "Python 3 (ipykernel)",
   "language": "python",
   "name": "python3"
  },
  "language_info": {
   "codemirror_mode": {
    "name": "ipython",
    "version": 3
   },
   "file_extension": ".py",
   "mimetype": "text/x-python",
   "name": "python",
   "nbconvert_exporter": "python",
   "pygments_lexer": "ipython3",
   "version": "3.12.4"
  }
 },
 "nbformat": 4,
 "nbformat_minor": 5
}
